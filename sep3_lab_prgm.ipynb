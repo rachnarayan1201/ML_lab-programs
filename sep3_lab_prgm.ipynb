{
  "nbformat": 4,
  "nbformat_minor": 0,
  "metadata": {
    "colab": {
      "name": "sep3 lab prgm",
      "provenance": [],
      "authorship_tag": "ABX9TyN/afDjfgw+UDKo8K4HaWsG",
      "include_colab_link": true
    },
    "kernelspec": {
      "name": "python3",
      "display_name": "Python 3"
    }
  },
  "cells": [
    {
      "cell_type": "markdown",
      "metadata": {
        "id": "view-in-github",
        "colab_type": "text"
      },
      "source": [
        "<a href=\"https://colab.research.google.com/github/rachnarayan1201/ML_lab-programs/blob/master/sep3_lab_prgm.ipynb\" target=\"_parent\"><img src=\"https://colab.research.google.com/assets/colab-badge.svg\" alt=\"Open In Colab\"/></a>"
      ]
    },
    {
      "cell_type": "markdown",
      "metadata": {
        "id": "iCp_WMbYieHB",
        "colab_type": "text"
      },
      "source": [
        "Write a Python program to count the occurrences of each word in a given sentence.\n",
        "\n",
        "[ ]\n"
      ]
    },
    {
      "cell_type": "code",
      "metadata": {
        "id": "cbkIMlj_hf84",
        "colab_type": "code",
        "colab": {
          "base_uri": "https://localhost:8080/",
          "height": 34
        },
        "outputId": "107ef059-cb08-46dd-cddd-ba223c2635be"
      },
      "source": [
        "def word_count(str):\n",
        "    counts = dict()\n",
        "    words = str.split()\n",
        "\n",
        "    for word in words:\n",
        "        if word in counts:\n",
        "            counts[word] += 1\n",
        "        else:\n",
        "            counts[word] = 1\n",
        "\n",
        "    return counts\n",
        "\n",
        "    \n",
        "print( word_count('My name is  Rachana'))"
      ],
      "execution_count": 1,
      "outputs": [
        {
          "output_type": "stream",
          "text": [
            "{'My': 1, 'name': 1, 'is': 1, 'Rachana': 1}\n"
          ],
          "name": "stdout"
        }
      ]
    },
    {
      "cell_type": "code",
      "metadata": {
        "id": "MOljrVbqiFkG",
        "colab_type": "code",
        "colab": {
          "base_uri": "https://localhost:8080/",
          "height": 34
        },
        "outputId": "0dfb97a3-f79d-4d86-a4cc-85fc071313dc"
      },
      "source": [
        "a = [10,20,30,10,50,30]\n",
        "\n",
        "dup_items = set()\n",
        "uniq_items = []\n",
        "for x in a:\n",
        "    if x not in dup_items:\n",
        "        uniq_items.append(x)\n",
        "        dup_items.add(x)\n",
        "\n",
        "print(dup_items)"
      ],
      "execution_count": 2,
      "outputs": [
        {
          "output_type": "stream",
          "text": [
            "{10, 20, 50, 30}\n"
          ],
          "name": "stdout"
        }
      ]
    },
    {
      "cell_type": "markdown",
      "metadata": {
        "id": "81_4v1j3i_qj",
        "colab_type": "text"
      },
      "source": [
        "Write a Python program to count the number of elements in a list within a specified range\n",
        "\n",
        "[ ]\n"
      ]
    },
    {
      "cell_type": "code",
      "metadata": {
        "id": "Xwj8fExxiTbW",
        "colab_type": "code",
        "colab": {
          "base_uri": "https://localhost:8080/",
          "height": 50
        },
        "outputId": "179b77b0-e59f-4240-a201-887910614534"
      },
      "source": [
        "def count_range_in_list(li, min, max):\n",
        "\tctr = 0\n",
        "\tfor x in li:\n",
        "\t\tif min <= x <= max:\n",
        "\t\t\tctr += 1\n",
        "\treturn ctr\n",
        "\n",
        "list1 = [10,20,30,30,30,40,70,80,99]\n",
        "print(count_range_in_list(list1, 40, 100))\n",
        "\n",
        "list2 = ['a','b','c','d','e','f']\n",
        "print(count_range_in_list(list2, 'a', 'e'))\n"
      ],
      "execution_count": 3,
      "outputs": [
        {
          "output_type": "stream",
          "text": [
            "4\n",
            "5\n"
          ],
          "name": "stdout"
        }
      ]
    },
    {
      "cell_type": "markdown",
      "metadata": {
        "id": "5_2VxNMbjMgb",
        "colab_type": "text"
      },
      "source": [
        "Write a Python script to merge two Python dictionaries.\n",
        "\n"
      ]
    },
    {
      "cell_type": "code",
      "metadata": {
        "id": "CR4U0HEZiqSb",
        "colab_type": "code",
        "colab": {
          "base_uri": "https://localhost:8080/",
          "height": 34
        },
        "outputId": "a470ef58-df55-4786-c456-554305173c59"
      },
      "source": [
        "a1 = {'a': 200, 'b': 400}\n",
        "a2 = {'x': 100, 'y': 200}\n",
        "a = a1.copy()\n",
        "a.update(a2)\n",
        "print(a)\n"
      ],
      "execution_count": 4,
      "outputs": [
        {
          "output_type": "stream",
          "text": [
            "{'a': 200, 'b': 400, 'x': 100, 'y': 200}\n"
          ],
          "name": "stdout"
        }
      ]
    },
    {
      "cell_type": "markdown",
      "metadata": {
        "id": "zJBsWRWzjZco",
        "colab_type": "text"
      },
      "source": [
        "Write a Python program to find the highest 3 values in a dictionary.\n",
        "\n"
      ]
    },
    {
      "cell_type": "code",
      "metadata": {
        "id": "RzMVQDbgjJGH",
        "colab_type": "code",
        "colab": {
          "base_uri": "https://localhost:8080/",
          "height": 34
        },
        "outputId": "a5468c9f-8878-4f6d-a0d3-204d0f2ddaa5"
      },
      "source": [
        "from heapq import nlargest\n",
        "my_dict = {'a':250, 'b':444, 'c': 600,'d':400, 'e':5000, 'f': 20}  \n",
        "three_largest = nlargest(3, my_dict, key=my_dict.get)\n",
        "print(three_largest)"
      ],
      "execution_count": 5,
      "outputs": [
        {
          "output_type": "stream",
          "text": [
            "['e', 'c', 'b']\n"
          ],
          "name": "stdout"
        }
      ]
    },
    {
      "cell_type": "markdown",
      "metadata": {
        "id": "J_vtlsBnjwTD",
        "colab_type": "text"
      },
      "source": [
        "Write a Python program to convert a tuple to a string."
      ]
    },
    {
      "cell_type": "code",
      "metadata": {
        "id": "pQkBRiJFjTxW",
        "colab_type": "code",
        "colab": {
          "base_uri": "https://localhost:8080/",
          "height": 34
        },
        "outputId": "46ad05f0-cc58-4385-cc53-0badc19385db"
      },
      "source": [
        "tup = ('r', 'a', 'c', 'h', 'u')\n",
        "str =  ''.join(tup)\n",
        "print(str)"
      ],
      "execution_count": 8,
      "outputs": [
        {
          "output_type": "stream",
          "text": [
            "rachu\n"
          ],
          "name": "stdout"
        }
      ]
    },
    {
      "cell_type": "markdown",
      "metadata": {
        "id": "yEYfzDJwkAqx",
        "colab_type": "text"
      },
      "source": [
        "Write a Python program to reverse a tuple."
      ]
    },
    {
      "cell_type": "code",
      "metadata": {
        "id": "7phIZpHQjgJ9",
        "colab_type": "code",
        "colab": {
          "base_uri": "https://localhost:8080/",
          "height": 34
        },
        "outputId": "cf5e3751-9c4a-494b-9715-b22d7bb662c4"
      },
      "source": [
        "x = (\"rachu\")\n",
        "y = reversed(x)\n",
        "print(tuple(y))"
      ],
      "execution_count": 10,
      "outputs": [
        {
          "output_type": "stream",
          "text": [
            "('u', 'h', 'c', 'a', 'r')\n"
          ],
          "name": "stdout"
        }
      ]
    },
    {
      "cell_type": "markdown",
      "metadata": {
        "id": "Km9gNfN1kK4z",
        "colab_type": "text"
      },
      "source": [
        "Write a Python program to remove existing indentation from all of the lines in a given text."
      ]
    },
    {
      "cell_type": "code",
      "metadata": {
        "id": "s3B9zXWhj48I",
        "colab_type": "code",
        "colab": {
          "base_uri": "https://localhost:8080/",
          "height": 151
        },
        "outputId": "796eca99-e168-4e7c-c4f4-a9a9ffc2340a"
      },
      "source": [
        "import textwrap\n",
        "sample_text = '''\n",
        "    There is a cute baby in the house, she is very cute and beautiful, everyone\n",
        "    in the family loves her very much, She loves everyone but she is a paapa's \n",
        "    daughter ,her expressions for photos will always be awesome and everyone \n",
        "    loves it .\n",
        "    '''\n",
        "text_without_Indentation = textwrap.dedent(sample_text)\n",
        "print()\n",
        "print(text_without_Indentation )\n",
        "print()\n"
      ],
      "execution_count": 11,
      "outputs": [
        {
          "output_type": "stream",
          "text": [
            "\n",
            "\n",
            "There is a cute baby in the house, she is very cute and beautiful, everyone\n",
            "in the family loves her very much, She loves everyone but she is a paapa's \n",
            "daughter ,her expressions for photos will always be awesome and everyone \n",
            "loves it .\n",
            "\n",
            "\n"
          ],
          "name": "stdout"
        }
      ]
    },
    {
      "cell_type": "code",
      "metadata": {
        "id": "gqKW4BK5kFz0",
        "colab_type": "code",
        "colab": {}
      },
      "source": [
        ""
      ],
      "execution_count": null,
      "outputs": []
    }
  ]
}