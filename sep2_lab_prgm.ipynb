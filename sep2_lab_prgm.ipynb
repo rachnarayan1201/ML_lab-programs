{
  "nbformat": 4,
  "nbformat_minor": 0,
  "metadata": {
    "colab": {
      "name": "sep2 lab prgm",
      "provenance": [],
      "authorship_tag": "ABX9TyN+3Rq03dWxIDeOdenWI2Qf",
      "include_colab_link": true
    },
    "kernelspec": {
      "name": "python3",
      "display_name": "Python 3"
    }
  },
  "cells": [
    {
      "cell_type": "markdown",
      "metadata": {
        "id": "view-in-github",
        "colab_type": "text"
      },
      "source": [
        "<a href=\"https://colab.research.google.com/github/rachnarayan1201/ML_lab-programs/blob/master/sep2_lab_prgm.ipynb\" target=\"_parent\"><img src=\"https://colab.research.google.com/assets/colab-badge.svg\" alt=\"Open In Colab\"/></a>"
      ]
    },
    {
      "cell_type": "markdown",
      "metadata": {
        "id": "zF1n-tUfndMH",
        "colab_type": "text"
      },
      "source": [
        ""
      ]
    },
    {
      "cell_type": "markdown",
      "metadata": {
        "id": "zpxbOuCpnfcG",
        "colab_type": "text"
      },
      "source": [
        "Write a Python program which accepts the user's first and last name and print them in reverse order with a space between them"
      ]
    },
    {
      "cell_type": "code",
      "metadata": {
        "id": "p9xM5ke1nBMO",
        "colab_type": "code",
        "colab": {
          "base_uri": "https://localhost:8080/",
          "height": 67
        },
        "outputId": "781eff14-76c3-4d21-cdf1-0fe7dfe5d4f6"
      },
      "source": [
        "fname = input(\"Input your First Name : \")\n",
        "lname = input(\"Input your Last Name : \")\n",
        "print (\"\" + lname + \" \" + fname)"
      ],
      "execution_count": 1,
      "outputs": [
        {
          "output_type": "stream",
          "text": [
            "Input your First Name : RACHANA\n",
            "Input your Last Name : K N \n",
            "K N  RACHANA\n"
          ],
          "name": "stdout"
        }
      ]
    },
    {
      "cell_type": "markdown",
      "metadata": {
        "id": "fp4EsgysoKUI",
        "colab_type": "text"
      },
      "source": [
        "Write a Python program to calculate number of days between two dates."
      ]
    },
    {
      "cell_type": "code",
      "metadata": {
        "id": "MLY4I2AjnMDK",
        "colab_type": "code",
        "colab": {
          "base_uri": "https://localhost:8080/",
          "height": 134
        },
        "outputId": "fb30341e-2fee-49c8-b082-f5107d2204b3"
      },
      "source": [
        "from datetime import date\n",
        "y1=int(input(\"enter year1: \"))\n",
        "m1=int(input(\"enter month1: \"))\n",
        "d1=int(input(\"enter date1: \"))\n",
        "y2=int(input(\"enter year2: \"))\n",
        "m2=int(input(\"enter month2: \"))\n",
        "d2=int(input(\"enter date2: \"))\n",
        "f_date = date(y1, m1, d1)\n",
        "l_date = date(y2, m2, d2)\n",
        "delta = l_date - f_date\n",
        "print(delta.days)"
      ],
      "execution_count": 4,
      "outputs": [
        {
          "output_type": "stream",
          "text": [
            "enter year1: 2015\n",
            "enter month1: 3\n",
            "enter date1: 12\n",
            "enter year2: 2017\n",
            "enter month2: 8\n",
            "enter date2: 01\n",
            "873\n"
          ],
          "name": "stdout"
        }
      ]
    },
    {
      "cell_type": "markdown",
      "metadata": {
        "id": "Y-yfuYxQoz23",
        "colab_type": "text"
      },
      "source": [
        "Write a Python program to test whether a passed letter is a vowel or not"
      ]
    },
    {
      "cell_type": "code",
      "metadata": {
        "id": "5QJEfZEvnmEM",
        "colab_type": "code",
        "colab": {
          "base_uri": "https://localhost:8080/",
          "height": 50
        },
        "outputId": "ce1c5c8a-bca6-4afa-9eae-6ae49f4343cf"
      },
      "source": [
        "def is_vowel(char):\n",
        "    all_vowels = 'aeiou'\n",
        "    return char in all_vowels\n",
        "ch=input(\"enter character: \")\n",
        "print(is_vowel(ch))"
      ],
      "execution_count": 5,
      "outputs": [
        {
          "output_type": "stream",
          "text": [
            "enter character: a\n",
            "True\n"
          ],
          "name": "stdout"
        }
      ]
    },
    {
      "cell_type": "markdown",
      "metadata": {
        "id": "4705cs48pRK5",
        "colab_type": "text"
      },
      "source": [
        "Write a Python program to sum of three given integers. However, if two values are equal sum will be zero."
      ]
    },
    {
      "cell_type": "code",
      "metadata": {
        "id": "QfC_l_0bomid",
        "colab_type": "code",
        "colab": {
          "base_uri": "https://localhost:8080/",
          "height": 84
        },
        "outputId": "e8cbb06b-2237-451d-a902-048b5f06b126"
      },
      "source": [
        "def sum(x, y, z):\n",
        "    if x == y or y == z or x==z:\n",
        "        sum = 0\n",
        "    else:\n",
        "        sum = x + y + z\n",
        "    return sum\n",
        "x=int(input(\"enter 1st num : \"))\n",
        "y=int(input(\"enter 2nd num : \"))\n",
        "z=int(input(\"enter 3rd num : \"))\n",
        "print(sum(x, y, z))"
      ],
      "execution_count": 6,
      "outputs": [
        {
          "output_type": "stream",
          "text": [
            "enter 1st num : 5\n",
            "enter 2nd num : 3\n",
            "enter 3rd num : 5\n",
            "0\n"
          ],
          "name": "stdout"
        }
      ]
    },
    {
      "cell_type": "markdown",
      "metadata": {
        "id": "iZnVV9qXprT9",
        "colab_type": "text"
      },
      "source": [
        "Write a Python program to count the number of characters (character frequency) in a string."
      ]
    },
    {
      "cell_type": "code",
      "metadata": {
        "id": "RJ3ghL-2o9A2",
        "colab_type": "code",
        "colab": {
          "base_uri": "https://localhost:8080/",
          "height": 50
        },
        "outputId": "f0011627-7590-4bbe-da0c-b12f1b9c28e3"
      },
      "source": [
        "def char_frequency(str1):\n",
        "    dict = {}\n",
        "    for n in str1:\n",
        "        keys = dict.keys()\n",
        "        if n in keys:\n",
        "            dict[n] += 1\n",
        "        else:\n",
        "            dict[n] = 1\n",
        "    return dict\n",
        "ch=input(\"enter string : \")\n",
        "print(char_frequency(ch))\n"
      ],
      "execution_count": 7,
      "outputs": [
        {
          "output_type": "stream",
          "text": [
            "enter string : pythonprogram\n",
            "{'p': 2, 'y': 1, 't': 1, 'h': 1, 'o': 2, 'n': 1, 'r': 2, 'g': 1, 'a': 1, 'm': 1}\n"
          ],
          "name": "stdout"
        }
      ]
    },
    {
      "cell_type": "code",
      "metadata": {
        "id": "srvtAujSpZbn",
        "colab_type": "code",
        "colab": {}
      },
      "source": [
        ""
      ],
      "execution_count": null,
      "outputs": []
    }
  ]
}